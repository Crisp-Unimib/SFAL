{
 "cells": [
  {
   "cell_type": "code",
   "execution_count": null,
   "id": "25d5db43",
   "metadata": {},
   "outputs": [
    {
     "name": "stdout",
     "output_type": "stream",
     "text": [
      "aasembling.ipynb  results.ipynb\n"
     ]
    }
   ],
   "source": [
    "!"
   ]
  },
  {
   "cell_type": "code",
   "execution_count": 11,
   "id": "a8b05fa8",
   "metadata": {},
   "outputs": [],
   "source": [
    "import pandas as pd\n",
    "\n",
    "df = pd.read_csv('/home/mmezzanzanica/project/scoring_autoint_align/3_analysis/1.1_ndcg_all_layers.csv')\n",
    "df1 = df[['id', 'layer', 'true_description', 'ndcg_emb_phi']]\n"
   ]
  },
  {
   "cell_type": "code",
   "execution_count": 13,
   "id": "b73aa37e",
   "metadata": {},
   "outputs": [
    {
     "name": "stderr",
     "output_type": "stream",
     "text": [
      "/tmp/ipykernel_584231/1124318605.py:1: SettingWithCopyWarning: \n",
      "A value is trying to be set on a copy of a slice from a DataFrame\n",
      "\n",
      "See the caveats in the documentation: https://pandas.pydata.org/pandas-docs/stable/user_guide/indexing.html#returning-a-view-versus-a-copy\n",
      "  df1.rename(columns={'ndcg_emb_phi': 'true_ndcg'}, inplace=True)\n"
     ]
    }
   ],
   "source": [
    "df1.rename(columns={'ndcg_emb_phi': 'true_ndcg'}, inplace=True)"
   ]
  },
  {
   "cell_type": "code",
   "execution_count": 19,
   "id": "cb58f004",
   "metadata": {},
   "outputs": [
    {
     "data": {
      "text/html": [
       "<div>\n",
       "<style scoped>\n",
       "    .dataframe tbody tr th:only-of-type {\n",
       "        vertical-align: middle;\n",
       "    }\n",
       "\n",
       "    .dataframe tbody tr th {\n",
       "        vertical-align: top;\n",
       "    }\n",
       "\n",
       "    .dataframe thead th {\n",
       "        text-align: right;\n",
       "    }\n",
       "</style>\n",
       "<table border=\"1\" class=\"dataframe\">\n",
       "  <thead>\n",
       "    <tr style=\"text-align: right;\">\n",
       "      <th></th>\n",
       "      <th>id</th>\n",
       "      <th>layer</th>\n",
       "      <th>true_description</th>\n",
       "      <th>true_ndcg</th>\n",
       "    </tr>\n",
       "  </thead>\n",
       "  <tbody>\n",
       "  </tbody>\n",
       "</table>\n",
       "</div>"
      ],
      "text/plain": [
       "Empty DataFrame\n",
       "Columns: [id, layer, true_description, true_ndcg]\n",
       "Index: []"
      ]
     },
     "execution_count": 19,
     "metadata": {},
     "output_type": "execute_result"
    }
   ],
   "source": [
    "df1[df1['true_ndcg'].isna()]"
   ]
  },
  {
   "cell_type": "code",
   "execution_count": 12,
   "id": "310eecf1",
   "metadata": {},
   "outputs": [
    {
     "data": {
      "text/html": [
       "<div>\n",
       "<style scoped>\n",
       "    .dataframe tbody tr th:only-of-type {\n",
       "        vertical-align: middle;\n",
       "    }\n",
       "\n",
       "    .dataframe tbody tr th {\n",
       "        vertical-align: top;\n",
       "    }\n",
       "\n",
       "    .dataframe thead th {\n",
       "        text-align: right;\n",
       "    }\n",
       "</style>\n",
       "<table border=\"1\" class=\"dataframe\">\n",
       "  <thead>\n",
       "    <tr style=\"text-align: right;\">\n",
       "      <th></th>\n",
       "      <th>id</th>\n",
       "      <th>modelId</th>\n",
       "      <th>true_description</th>\n",
       "      <th>layer</th>\n",
       "      <th>index</th>\n",
       "      <th>ndcg_emb_phi</th>\n",
       "      <th>score_gemini-2.0-flash</th>\n",
       "      <th>id_expl_gemini-2.0-flash</th>\n",
       "    </tr>\n",
       "  </thead>\n",
       "  <tbody>\n",
       "    <tr>\n",
       "      <th>0</th>\n",
       "      <td>smuqtj03gin1a6ru2o9ujz5as</td>\n",
       "      <td>llama3.1-8b</td>\n",
       "      <td>references to comfort and softness in descript...</td>\n",
       "      <td>0</td>\n",
       "      <td>7223</td>\n",
       "      <td>0.005397</td>\n",
       "      <td>0.950000</td>\n",
       "      <td>smuqtj03gin1a6ru2o9ujz5as</td>\n",
       "    </tr>\n",
       "    <tr>\n",
       "      <th>1</th>\n",
       "      <td>p6t6vi763nhuek9psdd9a32aj</td>\n",
       "      <td>llama3.1-8b</td>\n",
       "      <td>references to the Associated Press and photogr...</td>\n",
       "      <td>0</td>\n",
       "      <td>29280</td>\n",
       "      <td>0.005025</td>\n",
       "      <td>1.000000</td>\n",
       "      <td>p6t6vi763nhuek9psdd9a32aj</td>\n",
       "    </tr>\n",
       "    <tr>\n",
       "      <th>2</th>\n",
       "      <td>qbbr79uggoahcp705djxuhb10</td>\n",
       "      <td>llama3.1-8b</td>\n",
       "      <td>terms related to workspaces in a computational...</td>\n",
       "      <td>0</td>\n",
       "      <td>18918</td>\n",
       "      <td>0.002850</td>\n",
       "      <td>0.970588</td>\n",
       "      <td>qbbr79uggoahcp705djxuhb10</td>\n",
       "    </tr>\n",
       "    <tr>\n",
       "      <th>3</th>\n",
       "      <td>yehvcswpdjvxf44awd1dtzu9x</td>\n",
       "      <td>llama3.1-8b</td>\n",
       "      <td>names of football players or related entities</td>\n",
       "      <td>0</td>\n",
       "      <td>21175</td>\n",
       "      <td>0.008177</td>\n",
       "      <td>0.333333</td>\n",
       "      <td>yehvcswpdjvxf44awd1dtzu9x</td>\n",
       "    </tr>\n",
       "    <tr>\n",
       "      <th>4</th>\n",
       "      <td>yj0cw47s9yuvxekbx4a4f26gc</td>\n",
       "      <td>llama3.1-8b</td>\n",
       "      <td>instances of the word \"mock\" or its variation...</td>\n",
       "      <td>0</td>\n",
       "      <td>29495</td>\n",
       "      <td>0.004576</td>\n",
       "      <td>1.000000</td>\n",
       "      <td>yj0cw47s9yuvxekbx4a4f26gc</td>\n",
       "    </tr>\n",
       "  </tbody>\n",
       "</table>\n",
       "</div>"
      ],
      "text/plain": [
       "                          id      modelId  \\\n",
       "0  smuqtj03gin1a6ru2o9ujz5as  llama3.1-8b   \n",
       "1  p6t6vi763nhuek9psdd9a32aj  llama3.1-8b   \n",
       "2  qbbr79uggoahcp705djxuhb10  llama3.1-8b   \n",
       "3  yehvcswpdjvxf44awd1dtzu9x  llama3.1-8b   \n",
       "4  yj0cw47s9yuvxekbx4a4f26gc  llama3.1-8b   \n",
       "\n",
       "                                    true_description  layer  index  \\\n",
       "0  references to comfort and softness in descript...      0   7223   \n",
       "1  references to the Associated Press and photogr...      0  29280   \n",
       "2  terms related to workspaces in a computational...      0  18918   \n",
       "3      names of football players or related entities      0  21175   \n",
       "4   instances of the word \"mock\" or its variation...      0  29495   \n",
       "\n",
       "   ndcg_emb_phi  score_gemini-2.0-flash   id_expl_gemini-2.0-flash  \n",
       "0      0.005397                0.950000  smuqtj03gin1a6ru2o9ujz5as  \n",
       "1      0.005025                1.000000  p6t6vi763nhuek9psdd9a32aj  \n",
       "2      0.002850                0.970588  qbbr79uggoahcp705djxuhb10  \n",
       "3      0.008177                0.333333  yehvcswpdjvxf44awd1dtzu9x  \n",
       "4      0.004576                1.000000  yj0cw47s9yuvxekbx4a4f26gc  "
      ]
     },
     "execution_count": 12,
     "metadata": {},
     "output_type": "execute_result"
    }
   ],
   "source": [
    "data = pd.read_csv('/home/mmezzanzanica/project/scoring_autoint_align/3_analysis/eval/llama/score_llama.csv')\n",
    "data.head()"
   ]
  },
  {
   "cell_type": "code",
   "execution_count": 20,
   "id": "418a2cc8",
   "metadata": {},
   "outputs": [],
   "source": [
    "df_final = pd.merge(data, df1, on=['id', 'layer'], how='left')"
   ]
  },
  {
   "cell_type": "code",
   "execution_count": 22,
   "id": "b37d35f7",
   "metadata": {},
   "outputs": [],
   "source": [
    "df_final.to_csv('score_llama.csv', index=False)"
   ]
  }
 ],
 "metadata": {
  "kernelspec": {
   "display_name": "env",
   "language": "python",
   "name": "python3"
  },
  "language_info": {
   "codemirror_mode": {
    "name": "ipython",
    "version": 3
   },
   "file_extension": ".py",
   "mimetype": "text/x-python",
   "name": "python",
   "nbconvert_exporter": "python",
   "pygments_lexer": "ipython3",
   "version": "3.12.3"
  }
 },
 "nbformat": 4,
 "nbformat_minor": 5
}
