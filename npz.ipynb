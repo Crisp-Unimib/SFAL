{
 "cells": [
  {
   "cell_type": "code",
   "execution_count": 1,
   "id": "e05d3e85",
   "metadata": {},
   "outputs": [
    {
     "name": "stdout",
     "output_type": "stream",
     "text": [
      "Array disponibili nel file NPZ: ['histogram', 'n_chunks']\n"
     ]
    }
   ],
   "source": [
    "import numpy as np \n",
    "npz_path = '/home/mmezzanzanica/project/scoring_autoint_align/data/Llama3_1-8B-Base-LXR-8x/0-llamascope-res-32k/pajama_meta-llama_Llama-3.1-8B_res_Llama3_1-8B-Base-L0R-8x_checkpoints_final.safetensors_docs100k_keq512_cooccurrences.npz'\n",
    "with np.load(npz_path) as data:\n",
    "        available_keys = data.files\n",
    "        print(f\"Array disponibili nel file NPZ: {available_keys}\")"
   ]
  },
  {
   "cell_type": "code",
   "execution_count": 8,
   "id": "5a8bfff6",
   "metadata": {},
   "outputs": [
    {
     "name": "stdout",
     "output_type": "stream",
     "text": [
      "n_chunks: 44775\n"
     ]
    }
   ],
   "source": [
    "import numpy as np\n",
    "\n",
    "# Carica il file .npz\n",
    "npz_path = '/home/mmezzanzanica/project/scoring_autoint_align/data/Llama3_1-8B-Base-LXR-8x/31-llamascope-res-32k/pajama_meta-llama_Llama-3.1-8B_res_Llama3_1-8B-Base-L31R-8x_checkpoints_final.safetensors_docs100k_keq512_cooccurrences.npz'\n",
    "\n",
    "npz_file = np.load(npz_path)\n",
    "\n",
    "# Accedi al valore dell'array 'n_chunks'\n",
    "n_chunks = npz_file['n_chunks']\n",
    "\n",
    "# Se vuoi stamparlo:\n",
    "print(\"n_chunks:\", n_chunks)\n"
   ]
  }
 ],
 "metadata": {
  "kernelspec": {
   "display_name": "env",
   "language": "python",
   "name": "python3"
  },
  "language_info": {
   "codemirror_mode": {
    "name": "ipython",
    "version": 3
   },
   "file_extension": ".py",
   "mimetype": "text/x-python",
   "name": "python",
   "nbconvert_exporter": "python",
   "pygments_lexer": "ipython3",
   "version": "3.12.3"
  }
 },
 "nbformat": 4,
 "nbformat_minor": 5
}
